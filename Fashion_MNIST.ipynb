{
  "nbformat": 4,
  "nbformat_minor": 0,
  "metadata": {
    "colab": {
      "name": "Fashion-MNIST.ipynb",
      "provenance": [],
      "collapsed_sections": [],
      "authorship_tag": "ABX9TyOQ9pFH2teyI10VjGQ/Rba9",
      "include_colab_link": true
    },
    "kernelspec": {
      "name": "python3",
      "display_name": "Python 3"
    },
    "language_info": {
      "name": "python"
    }
  },
  "cells": [
    {
      "cell_type": "markdown",
      "metadata": {
        "id": "view-in-github",
        "colab_type": "text"
      },
      "source": [
        "<a href=\"https://colab.research.google.com/github/roguesoul18/FashionMNIST/blob/main/Fashion_MNIST.ipynb\" target=\"_parent\"><img src=\"https://colab.research.google.com/assets/colab-badge.svg\" alt=\"Open In Colab\"/></a>"
      ]
    },
    {
      "cell_type": "markdown",
      "metadata": {
        "id": "o1cVjxa04mi_"
      },
      "source": [
        "# **MNIST-Classification**\n",
        "\n",
        "Fashion-MNIST is a dataset of Zalando's article images—consisting of a training set of 60,000 examples and a test set of 10,000 examples. Each example is a 28x28 grayscale image, associated with a label from 10 classes. It shares the same image size and structure of training and testing splits."
      ]
    },
    {
      "cell_type": "code",
      "metadata": {
        "id": "4-xzTcDN1MYc"
      },
      "source": [
        "# Importing important libraries\n",
        "\n",
        "import torch\n",
        "import torchvision.transforms as transforms\n",
        "import torchvision.datasets as td\n",
        "from torch.utils.data import random_split\n",
        "from torch.utils.data import DataLoader\n",
        "import random\n",
        "import torch.nn.functional as F\n",
        "import matplotlib.pyplot as plt\n",
        "%matplotlib inline"
      ],
      "execution_count": 26,
      "outputs": []
    },
    {
      "cell_type": "code",
      "metadata": {
        "id": "Rt4QaGli2IYD"
      },
      "source": [
        "# Downloading the dataset from torchvisions.datasets\n",
        "\n",
        "dataset = td.FashionMNIST(\n",
        "    root = './data/FashionMNIST',\n",
        "    train = True,\n",
        "    download = True,\n",
        "    transform = transforms.Compose([\n",
        "        transforms.ToTensor()                                 \n",
        "    ])\n",
        ")"
      ],
      "execution_count": 27,
      "outputs": []
    },
    {
      "cell_type": "code",
      "metadata": {
        "colab": {
          "base_uri": "https://localhost:8080/"
        },
        "id": "gHEeSrkn2Icw",
        "outputId": "c3fcde8a-e387-4853-e95b-a4b87b50af55"
      },
      "source": [
        "len(dataset)"
      ],
      "execution_count": 28,
      "outputs": [
        {
          "output_type": "execute_result",
          "data": {
            "text/plain": [
              "60000"
            ]
          },
          "metadata": {
            "tags": []
          },
          "execution_count": 28
        }
      ]
    },
    {
      "cell_type": "markdown",
      "metadata": {
        "id": "16MRrKhS5Xsf"
      },
      "source": [
        "This block gives the classes of the dataset viz. the literal names of different outfits."
      ]
    },
    {
      "cell_type": "code",
      "metadata": {
        "colab": {
          "base_uri": "https://localhost:8080/"
        },
        "id": "VY9b-fEV2Igu",
        "outputId": "8ba4a5ea-e132-4a2c-f59e-2e183dc27fa4"
      },
      "source": [
        "dataset[0]\n",
        "print(dataset.classes)"
      ],
      "execution_count": 29,
      "outputs": [
        {
          "output_type": "stream",
          "text": [
            "['T-shirt/top', 'Trouser', 'Pullover', 'Dress', 'Coat', 'Sandal', 'Shirt', 'Sneaker', 'Bag', 'Ankle boot']\n"
          ],
          "name": "stdout"
        }
      ]
    },
    {
      "cell_type": "code",
      "metadata": {
        "colab": {
          "base_uri": "https://localhost:8080/"
        },
        "id": "NtLqViOG2Iou",
        "outputId": "a5b7e518-313a-42ad-c97d-9a6ee34863ab"
      },
      "source": [
        "# Printing the shape of each image tensor along with its label\n",
        "\n",
        "img_tensor, label = dataset[0]\n",
        "print(img_tensor.shape, label)"
      ],
      "execution_count": 30,
      "outputs": [
        {
          "output_type": "stream",
          "text": [
            "torch.Size([1, 28, 28]) 9\n"
          ],
          "name": "stdout"
        }
      ]
    },
    {
      "cell_type": "code",
      "metadata": {
        "colab": {
          "base_uri": "https://localhost:8080/"
        },
        "id": "5cUTLbbq2Ixe",
        "outputId": "db26dddd-db5d-4d46-b982-62e35e8211cb"
      },
      "source": [
        "# Splitting the data into training set and validation set\n",
        "\n",
        "train_ds, val_ds = random_split(dataset, [50000, 10000])\n",
        "len(train_ds), len(val_ds)"
      ],
      "execution_count": 31,
      "outputs": [
        {
          "output_type": "execute_result",
          "data": {
            "text/plain": [
              "(50000, 10000)"
            ]
          },
          "metadata": {
            "tags": []
          },
          "execution_count": 31
        }
      ]
    },
    {
      "cell_type": "code",
      "metadata": {
        "id": "H7c97OGa2I2O"
      },
      "source": [
        "# Setting up a batch size and alloting it to DataLoader\n",
        "\n",
        "batch_size = 128\n",
        "\n",
        "train_loader = DataLoader(train_ds, batch_size, shuffle=True)\n",
        "val_loader = DataLoader(val_ds, batch_size)"
      ],
      "execution_count": 32,
      "outputs": []
    },
    {
      "cell_type": "code",
      "metadata": {
        "id": "sxtrzk6I2I6g"
      },
      "source": [
        "# Simple logistic regression model\n",
        "\n",
        "import torch.nn as nn\n",
        "\n",
        "input_size = 28*28\n",
        "num_classes = 10\n",
        "model = nn.Linear(input_size, num_classes)"
      ],
      "execution_count": 33,
      "outputs": []
    },
    {
      "cell_type": "code",
      "metadata": {
        "id": "_QtkPKo02JGu"
      },
      "source": [
        "class MnistModel(nn.Module):\n",
        "    def __init__(self):\n",
        "        super().__init__()\n",
        "        self.linear = nn.Linear(input_size, num_classes)\n",
        "        \n",
        "    def forward(self, xb):\n",
        "        xb = xb.reshape(-1, 784)\n",
        "        out = self.linear(xb)\n",
        "        return out\n",
        "    \n",
        "model = MnistModel()"
      ],
      "execution_count": 34,
      "outputs": []
    },
    {
      "cell_type": "code",
      "metadata": {
        "colab": {
          "base_uri": "https://localhost:8080/"
        },
        "id": "Fu5FcTnE2JK-",
        "outputId": "4ae23b77-3638-42c6-e04f-625d13bec84b"
      },
      "source": [
        "model.linear"
      ],
      "execution_count": 35,
      "outputs": [
        {
          "output_type": "execute_result",
          "data": {
            "text/plain": [
              "Linear(in_features=784, out_features=10, bias=True)"
            ]
          },
          "metadata": {
            "tags": []
          },
          "execution_count": 35
        }
      ]
    },
    {
      "cell_type": "code",
      "metadata": {
        "colab": {
          "base_uri": "https://localhost:8080/"
        },
        "id": "CUnuiYFZ2JPf",
        "outputId": "05d6a9cf-0da3-4c1a-a484-e4fdacfaa56f"
      },
      "source": [
        "for images, labels in train_loader:\n",
        "    print(images.shape)\n",
        "    outputs = model(images)\n",
        "    break\n",
        "\n",
        "print('outputs.shape : ', outputs.shape)\n",
        "print('Sample outputs :\\n', outputs[:2].data)"
      ],
      "execution_count": 36,
      "outputs": [
        {
          "output_type": "stream",
          "text": [
            "torch.Size([128, 1, 28, 28])\n",
            "outputs.shape :  torch.Size([128, 10])\n",
            "Sample outputs :\n",
            " tensor([[ 0.1246, -0.0167,  0.2739,  0.2455,  0.0529,  0.0515,  0.1162,  0.2190,\n",
            "          0.2593, -0.1207],\n",
            "        [-0.2217, -0.0376,  0.2758,  0.3514, -0.3932, -0.2194,  0.1723, -0.0222,\n",
            "         -0.1001, -0.0056]])\n"
          ],
          "name": "stdout"
        }
      ]
    },
    {
      "cell_type": "code",
      "metadata": {
        "colab": {
          "base_uri": "https://localhost:8080/"
        },
        "id": "sgmx9EKu5A_I",
        "outputId": "2755d855-1a07-4042-f482-eeec67378db0"
      },
      "source": [
        "# Apply softmax for each output row\n",
        "probs = F.softmax(outputs, dim=1)\n",
        "\n",
        "# Look at sample probabilities\n",
        "print(\"Sample probabilities:\\n\", probs[:2].data)\n",
        "\n",
        "# Add up the probabilities of an output row\n",
        "print(\"Sum: \", torch.sum(probs[0]).item())"
      ],
      "execution_count": 37,
      "outputs": [
        {
          "output_type": "stream",
          "text": [
            "Sample probabilities:\n",
            " tensor([[0.0996, 0.0865, 0.1157, 0.1125, 0.0928, 0.0926, 0.0988, 0.1095, 0.1140,\n",
            "         0.0780],\n",
            "        [0.0798, 0.0959, 0.1312, 0.1415, 0.0672, 0.0799, 0.1183, 0.0974, 0.0901,\n",
            "         0.0990]])\n",
            "Sum:  0.9999999403953552\n"
          ],
          "name": "stdout"
        }
      ]
    },
    {
      "cell_type": "code",
      "metadata": {
        "colab": {
          "base_uri": "https://localhost:8080/"
        },
        "id": "N-64GDua5BC4",
        "outputId": "598c9a71-7e5a-4921-b67b-4cb42b490420"
      },
      "source": [
        "max_probs, preds = torch.max(probs, dim=1)\n",
        "print(preds)\n",
        "print(max_probs)"
      ],
      "execution_count": 38,
      "outputs": [
        {
          "output_type": "stream",
          "text": [
            "tensor([2, 3, 3, 3, 3, 0, 2, 3, 2, 3, 3, 3, 3, 3, 5, 7, 7, 3, 2, 3, 3, 5, 2, 3,\n",
            "        3, 0, 8, 3, 3, 3, 6, 3, 3, 2, 3, 3, 2, 3, 3, 3, 3, 3, 3, 3, 3, 3, 3, 3,\n",
            "        7, 3, 3, 3, 3, 3, 3, 3, 3, 3, 2, 3, 8, 3, 8, 3, 3, 3, 3, 3, 2, 2, 3, 8,\n",
            "        3, 2, 8, 5, 3, 5, 3, 2, 3, 3, 3, 3, 3, 3, 3, 0, 3, 3, 3, 3, 2, 3, 3, 3,\n",
            "        3, 3, 3, 0, 5, 7, 8, 3, 3, 4, 7, 3, 3, 3, 3, 3, 3, 7, 3, 5, 3, 3, 3, 3,\n",
            "        3, 8, 3, 3, 3, 2, 3, 5])\n",
            "tensor([0.1157, 0.1415, 0.1224, 0.1548, 0.1145, 0.1118, 0.1571, 0.1258, 0.1545,\n",
            "        0.1245, 0.1187, 0.1385, 0.1311, 0.1667, 0.1263, 0.1475, 0.1291, 0.1499,\n",
            "        0.1381, 0.1549, 0.1167, 0.1272, 0.1252, 0.1444, 0.1219, 0.1324, 0.1192,\n",
            "        0.1159, 0.1307, 0.1425, 0.1258, 0.1231, 0.1271, 0.1231, 0.1469, 0.1367,\n",
            "        0.1184, 0.1560, 0.1111, 0.1682, 0.1502, 0.1254, 0.1248, 0.1519, 0.1275,\n",
            "        0.1102, 0.1514, 0.1697, 0.1172, 0.1462, 0.1532, 0.1120, 0.1320, 0.1179,\n",
            "        0.1285, 0.1380, 0.1096, 0.1378, 0.1453, 0.1744, 0.1452, 0.1305, 0.1183,\n",
            "        0.1337, 0.1349, 0.1211, 0.1240, 0.1173, 0.1241, 0.1327, 0.1444, 0.1291,\n",
            "        0.1259, 0.1584, 0.1106, 0.1263, 0.1569, 0.1307, 0.1303, 0.1402, 0.1589,\n",
            "        0.1457, 0.1284, 0.1166, 0.1512, 0.1146, 0.1570, 0.1132, 0.1304, 0.1451,\n",
            "        0.1766, 0.1186, 0.1210, 0.1460, 0.1327, 0.1243, 0.1613, 0.1303, 0.1348,\n",
            "        0.1331, 0.1318, 0.1128, 0.1093, 0.1578, 0.1272, 0.1141, 0.1251, 0.1405,\n",
            "        0.1235, 0.1266, 0.1558, 0.1519, 0.1132, 0.1251, 0.1187, 0.1374, 0.1345,\n",
            "        0.1304, 0.1493, 0.1086, 0.1278, 0.1317, 0.1345, 0.1319, 0.1309, 0.1195,\n",
            "        0.1371, 0.1458], grad_fn=<MaxBackward0>)\n"
          ],
          "name": "stdout"
        }
      ]
    },
    {
      "cell_type": "code",
      "metadata": {
        "colab": {
          "base_uri": "https://localhost:8080/"
        },
        "id": "-UFs0RP-5BGs",
        "outputId": "93431447-a5fa-462e-cd53-15527b4f773d"
      },
      "source": [
        "torch.sum(preds == labels)"
      ],
      "execution_count": 39,
      "outputs": [
        {
          "output_type": "execute_result",
          "data": {
            "text/plain": [
              "tensor(15)"
            ]
          },
          "metadata": {
            "tags": []
          },
          "execution_count": 39
        }
      ]
    },
    {
      "cell_type": "code",
      "metadata": {
        "colab": {
          "base_uri": "https://localhost:8080/"
        },
        "id": "k9jXqDV85BWr",
        "outputId": "2941c2bb-91a2-4099-924f-3d23d043187b"
      },
      "source": [
        "# Accuracy function\n",
        "def accuracy(outputs, labels):\n",
        "    _, preds = torch.max(outputs, dim=1)\n",
        "    return torch.tensor(torch.sum(preds == labels).item() / len(preds))\n",
        "\n",
        "loss_fn = F.cross_entropy\n",
        "\n",
        "# Loss for current batch of data\n",
        "loss = loss_fn(outputs, labels)\n",
        "print(loss)"
      ],
      "execution_count": 40,
      "outputs": [
        {
          "output_type": "stream",
          "text": [
            "tensor(2.3026, grad_fn=<NllLossBackward>)\n"
          ],
          "name": "stdout"
        }
      ]
    },
    {
      "cell_type": "code",
      "metadata": {
        "id": "wCyZ-LDn5Ba4"
      },
      "source": [
        "def fit(epochs, lr, model, train_loader, val_loader, opt_func=torch.optim.SGD):\n",
        "    optimizer = opt_func(model.parameters(), lr)\n",
        "    history = [] # for recording epoch-wise results\n",
        "    \n",
        "    for epoch in range(epochs):\n",
        "        \n",
        "        # Training Phase \n",
        "        for batch in train_loader:\n",
        "            loss = model.training_step(batch)\n",
        "            loss.backward()\n",
        "            optimizer.step()\n",
        "            optimizer.zero_grad()\n",
        "        \n",
        "        # Validation phase\n",
        "        result = evaluate(model, val_loader)\n",
        "        model.epoch_end(epoch, result)\n",
        "        history.append(result)\n",
        "\n",
        "    return history"
      ],
      "execution_count": 41,
      "outputs": []
    },
    {
      "cell_type": "code",
      "metadata": {
        "id": "K012_R215BfH"
      },
      "source": [
        "def evaluate(model, val_loader):\n",
        "    outputs = [model.validation_step(batch) for batch in val_loader]\n",
        "    return model.validation_epoch_end(outputs)"
      ],
      "execution_count": 42,
      "outputs": []
    },
    {
      "cell_type": "code",
      "metadata": {
        "id": "ICTHln6o5ouM"
      },
      "source": [
        "class MnistModel(nn.Module):\n",
        "    def __init__(self):\n",
        "        super().__init__()\n",
        "        self.linear = nn.Linear(input_size, num_classes)\n",
        "        \n",
        "    def forward(self, xb):\n",
        "        xb = xb.reshape(-1, 784)\n",
        "        out = self.linear(xb)\n",
        "        return out\n",
        "    \n",
        "    def training_step(self, batch):\n",
        "        images, labels = batch \n",
        "        out = self(images)                  # Generate predictions\n",
        "        loss = F.cross_entropy(out, labels) # Calculate loss\n",
        "        return loss\n",
        "    \n",
        "    def validation_step(self, batch):\n",
        "        images, labels = batch \n",
        "        out = self(images)                    # Generate predictions\n",
        "        loss = F.cross_entropy(out, labels)   # Calculate loss\n",
        "        acc = accuracy(out, labels)           # Calculate accuracy\n",
        "        return {'val_loss': loss, 'val_acc': acc}\n",
        "        \n",
        "    def validation_epoch_end(self, outputs):\n",
        "        batch_losses = [x['val_loss'] for x in outputs]\n",
        "        epoch_loss = torch.stack(batch_losses).mean()   # Combine losses\n",
        "        batch_accs = [x['val_acc'] for x in outputs]\n",
        "        epoch_acc = torch.stack(batch_accs).mean()      # Combine accuracies\n",
        "        return {'val_loss': epoch_loss.item(), 'val_acc': epoch_acc.item()}\n",
        "    \n",
        "    def epoch_end(self, epoch, result):\n",
        "        print(\"Epoch [{}], val_loss: {:.4f}, val_acc: {:.4f}\".format(epoch, result['val_loss'], result['val_acc']))\n",
        "    \n",
        "model = MnistModel()"
      ],
      "execution_count": 43,
      "outputs": []
    },
    {
      "cell_type": "code",
      "metadata": {
        "colab": {
          "base_uri": "https://localhost:8080/"
        },
        "id": "7yemcv8C5oye",
        "outputId": "fb676884-0374-401f-a145-eac1bcd726b8"
      },
      "source": [
        "result0 = evaluate(model, val_loader)\n",
        "result0"
      ],
      "execution_count": 44,
      "outputs": [
        {
          "output_type": "execute_result",
          "data": {
            "text/plain": [
              "{'val_acc': 0.022745253518223763, 'val_loss': 2.3448030948638916}"
            ]
          },
          "metadata": {
            "tags": []
          },
          "execution_count": 44
        }
      ]
    },
    {
      "cell_type": "code",
      "metadata": {
        "colab": {
          "base_uri": "https://localhost:8080/"
        },
        "id": "h2BVzLBh5o1-",
        "outputId": "360a91b3-193c-45d4-e634-bbec9c306b9e"
      },
      "source": [
        "# Running the model\n",
        "\n",
        "history1 = fit(20, 0.001, model, train_loader, val_loader)"
      ],
      "execution_count": 45,
      "outputs": [
        {
          "output_type": "stream",
          "text": [
            "Epoch [0], val_loss: 1.7171, val_acc: 0.5938\n",
            "Epoch [1], val_loss: 1.4228, val_acc: 0.6503\n",
            "Epoch [2], val_loss: 1.2540, val_acc: 0.6652\n",
            "Epoch [3], val_loss: 1.1455, val_acc: 0.6776\n",
            "Epoch [4], val_loss: 1.0697, val_acc: 0.6869\n",
            "Epoch [5], val_loss: 1.0133, val_acc: 0.6957\n",
            "Epoch [6], val_loss: 0.9697, val_acc: 0.7037\n",
            "Epoch [7], val_loss: 0.9341, val_acc: 0.7125\n",
            "Epoch [8], val_loss: 0.9049, val_acc: 0.7192\n",
            "Epoch [9], val_loss: 0.8803, val_acc: 0.7268\n",
            "Epoch [10], val_loss: 0.8591, val_acc: 0.7346\n",
            "Epoch [11], val_loss: 0.8403, val_acc: 0.7395\n",
            "Epoch [12], val_loss: 0.8236, val_acc: 0.7448\n",
            "Epoch [13], val_loss: 0.8089, val_acc: 0.7484\n",
            "Epoch [14], val_loss: 0.7956, val_acc: 0.7526\n",
            "Epoch [15], val_loss: 0.7834, val_acc: 0.7546\n",
            "Epoch [16], val_loss: 0.7724, val_acc: 0.7575\n",
            "Epoch [17], val_loss: 0.7622, val_acc: 0.7600\n",
            "Epoch [18], val_loss: 0.7529, val_acc: 0.7622\n",
            "Epoch [19], val_loss: 0.7440, val_acc: 0.7651\n"
          ],
          "name": "stdout"
        }
      ]
    },
    {
      "cell_type": "code",
      "metadata": {
        "colab": {
          "base_uri": "https://localhost:8080/",
          "height": 295
        },
        "id": "9b9Avmns5o5i",
        "outputId": "bb11befa-7f6d-4f01-a004-574a78fee69c"
      },
      "source": [
        "# Plotting the data\n",
        "\n",
        "history = [result0] + history1\n",
        "accuracies = [result['val_acc'] for result in history]\n",
        "plt.plot(accuracies, '-x')\n",
        "plt.xlabel('epoch')\n",
        "plt.ylabel('accuracy')\n",
        "plt.ylim(0.0, 1.0)\n",
        "plt.title('Accuracy vs. No. of epochs');"
      ],
      "execution_count": 46,
      "outputs": [
        {
          "output_type": "display_data",
          "data": {
            "image/png": "[encoded data removed]",
            "text/plain": [
              "<Figure size 432x288 with 1 Axes>"
            ]
          },
          "metadata": {
            "tags": [],
            "needs_background": "light"
          }
        }
      ]
    },
    {
      "cell_type": "code",
      "metadata": {
        "colab": {
          "base_uri": "https://localhost:8080/",
          "height": 282
        },
        "id": "LHL7Tqp_5o9A",
        "outputId": "714c774e-c73b-46a8-abcf-675a63ecd07e"
      },
      "source": [
        "# Testing the trained model\n",
        "\n",
        "import random\n",
        "def predict_image(img, model):\n",
        "    xb = img.unsqueeze(0)\n",
        "    yb = model(xb)\n",
        "    _, preds = torch.max(yb, dim=1)\n",
        "    return preds[0].item(), dataset.classes[preds[0].item()]\n",
        "\n",
        "a = random.randrange(0, 60000)\n",
        "img, label = dataset[a]\n",
        "plt.imshow(img[0], cmap='gray')\n",
        "print('Label:', label, ',', \"'\", dataset.classes[label], \"'\", ', Predicted:', predict_image(img, model))"
      ],
      "execution_count": 53,
      "outputs": [
        {
          "output_type": "stream",
          "text": [
            "Label: 9 , ' Ankle boot ' , Predicted: (9, 'Ankle boot')\n"
          ],
          "name": "stdout"
        },
        {
          "output_type": "display_data",
          "data": {
            "image/png": "[encoded data removed]",
            "text/plain": [
              "<Figure size 432x288 with 1 Axes>"
            ]
          },
          "metadata": {
            "tags": [],
            "needs_background": "light"
          }
        }
      ]
    }
  ]
}